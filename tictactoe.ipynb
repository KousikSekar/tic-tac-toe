{
 "cells": [
  {
   "cell_type": "code",
   "execution_count": 169,
   "metadata": {},
   "outputs": [],
   "source": [
    "import tkinter\n",
    "\n",
    "def tic():\n",
    "    \n",
    "    window = tkinter.Tk()\n",
    "    window.title(\"Tic Tac Toe\")\n",
    "    #window.geometry('438x472') #146x158\n",
    "    \n",
    "    \n",
    "    def chg(event,r,c):\n",
    "        event.widget.grid_forget()\n",
    "        global count\n",
    "        if ((count%2)==0):\n",
    "            b = tkinter.Label(window,text='O',font=('Arial Bold',105),width=2,height=1,bd=0,fg='red')\n",
    "            b.grid(row=r,column=c)\n",
    "        else:\n",
    "            b = tkinter.Label(window,text='X',font=('Arial Bold',105),width=2,height=1,bd=0,fg='black')\n",
    "            b.grid(row=r,column=c)\n",
    "        count = count + 1\n",
    "        \n",
    "    \n",
    "        \n",
    "        \n",
    "\n",
    "    \n",
    "\n",
    "    b00 = tkinter.Button(window,fg='white',bg='white',bd=0,width=24,height=10)\n",
    "    b00.grid(row=0,column=0)\n",
    "    b00.bind('<Button-1>',lambda event : chg(event,0,0))\n",
    "\n",
    "\n",
    "    b01 = tkinter.Button(window,fg='white',bg='#CECCCC',bd=0,width=24,height=10)\n",
    "    b01.grid(row=0,column=1)\n",
    "    b01.bind('<Button-1>',lambda event : chg(event,0,1))\n",
    "\n",
    "    b02 = tkinter.Button(window,fg='white',bg='white',bd=0,width=24,height=10) \n",
    "    b02.grid(row=0,column=2)\n",
    "    b02.bind('<Button-1>',lambda event : chg(event,0,2))\n",
    "\n",
    "    b10 = tkinter.Button(window,fg='white',bg='#CECCCC',bd=0,width=24,height=10)\n",
    "    b10.grid(row=1,column=0)\n",
    "    b10.bind('<Button-1>',lambda event : chg(event,1,0))\n",
    "\n",
    "    b11 = tkinter.Button(window,fg='white',bg='white',bd=0,width=24,height=10)\n",
    "    b11.grid(row=1,column=1)\n",
    "    b11.bind('<Button-1>',lambda event : chg(event,1,1))\n",
    "    \n",
    "    b12 = tkinter.Button(window,fg='white',bg='#CECCCC',bd=0,width=24,height=10) \n",
    "    b12.grid(row=1,column=2)\n",
    "    b12.bind('<Button-1>',lambda event : chg(event,1,2))\n",
    "\n",
    "    b20 = tkinter.Button(window,fg='white',bg='white',bd=0,width=24,height=10)\n",
    "    b20.grid(row=2,column=0)\n",
    "    b20.bind('<Button-1>',lambda event : chg(event,2,0))\n",
    "    \n",
    "    b21 = tkinter.Button(window,fg='white',bg='#CECCCC',bd=0,width=24,height=10)\n",
    "    b21.grid(row=2,column=1)\n",
    "    b21.bind('<Button-1>',lambda event : chg(event,2,1))\n",
    "    \n",
    "    b22 = tkinter.Button(window,fg='white',bg='white',bd=0,width=24,height=10) \n",
    "    b22.grid(row=2,column=2)\n",
    "    b22.bind('<Button-1>',lambda event : chg(event,2,2))\n",
    "\n",
    "    window.mainloop()\n",
    "    \n",
    "if __name__ == '__main__':\n",
    "    tic()\n",
    "    count=1\n",
    "\n",
    "\n",
    "\n",
    "\n"
   ]
  },
  {
   "cell_type": "code",
   "execution_count": 183,
   "metadata": {},
   "outputs": [],
   "source": [
    "l = list('a b c d e f g h'.split(' '))"
   ]
  },
  {
   "cell_type": "code",
   "execution_count": 180,
   "metadata": {},
   "outputs": [],
   "source": [
    "# def validate(1,0,1): \n",
    "r = 1\n",
    "c = 0\n",
    "a = r*3+c \n",
    "l[a] = 1\n",
    "    \n",
    "    \n",
    "    "
   ]
  },
  {
   "cell_type": "code",
   "execution_count": 184,
   "metadata": {},
   "outputs": [
    {
     "data": {
      "text/plain": [
       "['a', 'b', 'c', 'd', 'e', 'f', 'g', 'h']"
      ]
     },
     "execution_count": 184,
     "metadata": {},
     "output_type": "execute_result"
    }
   ],
   "source": [
    "l"
   ]
  },
  {
   "cell_type": "code",
   "execution_count": null,
   "metadata": {},
   "outputs": [],
   "source": [
    "if ((l[1]==l[2])&(l[2]==l[3])) | (l[1]==l[4])&b"
   ]
  },
  {
   "cell_type": "code",
   "execution_count": null,
   "metadata": {},
   "outputs": [],
   "source": [
    "1 2 3 \n",
    "1 5 9\n",
    "1 4 7 \n",
    "4 5 6\n",
    "2 5 8\n",
    "3 6 9\n",
    "7 8 9\n",
    "3 5 7\n",
    "\n"
   ]
  },
  {
   "cell_type": "code",
   "execution_count": 186,
   "metadata": {},
   "outputs": [
    {
     "name": "stdout",
     "output_type": "stream",
     "text": [
      "yes\n"
     ]
    }
   ],
   "source": [
    "if ((1==1)&(2==2)):\n",
    "    print('yes')"
   ]
  },
  {
   "cell_type": "code",
   "execution_count": null,
   "metadata": {},
   "outputs": [],
   "source": []
  }
 ],
 "metadata": {
  "kernelspec": {
   "display_name": "Python 3",
   "language": "python",
   "name": "python3"
  },
  "language_info": {
   "codemirror_mode": {
    "name": "ipython",
    "version": 3
   },
   "file_extension": ".py",
   "mimetype": "text/x-python",
   "name": "python",
   "nbconvert_exporter": "python",
   "pygments_lexer": "ipython3",
   "version": "3.7.4"
  }
 },
 "nbformat": 4,
 "nbformat_minor": 2
}
